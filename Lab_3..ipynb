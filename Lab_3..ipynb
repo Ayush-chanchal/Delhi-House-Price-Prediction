{
 "cells": [
  {
   "cell_type": "code",
   "execution_count": 64,
   "metadata": {},
   "outputs": [
    {
     "name": "stdout",
     "output_type": "stream",
     "text": [
      "   Unnamed: 0       price                                            Address  \\\n",
      "0           0   5600000.0                  Noida Extension, Noida, Delhi NCR   \n",
      "1           1   8800000.0                      Sector 79, Gurgaon, Delhi NCR   \n",
      "2           2  16500000.0                     Vaishali, Ghaziabad, Delhi NCR   \n",
      "3           3   3810000.0  Link Road, F Block, Sector 50, Noida, Uttar Pr...   \n",
      "4           4   6200000.0  Jaypee Pavilion Court Sector 128, Noida, Secto...   \n",
      "\n",
      "     area   latitude  longitude  Bedrooms  Bathrooms  Balcony  \\\n",
      "0  1350.0  28.608850  77.460560       3.0        3.0      NaN   \n",
      "1  1490.0  28.374236  76.952416       3.0        3.0      NaN   \n",
      "2  2385.0  28.645769  77.385110       4.0        5.0      NaN   \n",
      "3  1050.0  28.566914  77.436434       2.0        2.0      3.0   \n",
      "4  1350.0  28.520732  77.356491       2.0        2.0      3.0   \n",
      "\n",
      "               Status      neworold  parking Furnished_status  Lift  \\\n",
      "0  Under Construction  New Property      NaN              NaN   2.0   \n",
      "1       Ready to Move  New Property      NaN   Semi-Furnished   2.0   \n",
      "2       Ready to Move  New Property      1.0      Unfurnished   NaN   \n",
      "3                 NaN  New Property      1.0      Unfurnished   2.0   \n",
      "4       Ready to Move        Resale      1.0              NaN   3.0   \n",
      "\n",
      "                    Landmarks type_of_building  \\\n",
      "0                         NaN             Flat   \n",
      "1                         NaN             Flat   \n",
      "2                         NaN             Flat   \n",
      "3  near Gaur Mulberry Mansion             Flat   \n",
      "4                         NaN             Flat   \n",
      "\n",
      "                                                desc   Price_sqft  \n",
      "0  \\n\\n\\n                                Welcome ...  4148.148148  \n",
      "1  \\n\\n\\n                                Mapsko M...  5906.040268  \n",
      "2  \\n\\n\\n                                This pro...  6918.238994  \n",
      "3  \\n\\n\\n                                AIG Roya...  3628.571429  \n",
      "4  \\n\\n\\n                                The prop...  4592.592593  \n"
     ]
    }
   ],
   "source": [
    "import pandas as pd\n",
    "import numpy as np\n",
    "\n",
    "data=pd.read_csv('./Delhi_v2.csv')\n",
    "print(data.head())"
   ]
  },
  {
   "cell_type": "code",
   "execution_count": 65,
   "metadata": {},
   "outputs": [
    {
     "name": "stdout",
     "output_type": "stream",
     "text": [
      "(7738, 18)\n"
     ]
    }
   ],
   "source": [
    "print(data.shape)"
   ]
  },
  {
   "cell_type": "code",
   "execution_count": 66,
   "metadata": {},
   "outputs": [
    {
     "name": "stdout",
     "output_type": "stream",
     "text": [
      "<class 'pandas.core.frame.DataFrame'>\n",
      "RangeIndex: 7738 entries, 0 to 7737\n",
      "Data columns (total 18 columns):\n",
      " #   Column            Non-Null Count  Dtype  \n",
      "---  ------            --------------  -----  \n",
      " 0   Unnamed: 0        7738 non-null   int64  \n",
      " 1   price             7738 non-null   float64\n",
      " 2   Address           7738 non-null   object \n",
      " 3   area              7738 non-null   float64\n",
      " 4   latitude          7738 non-null   float64\n",
      " 5   longitude         7738 non-null   float64\n",
      " 6   Bedrooms          7738 non-null   float64\n",
      " 7   Bathrooms         7738 non-null   float64\n",
      " 8   Balcony           5166 non-null   float64\n",
      " 9   Status            7164 non-null   object \n",
      " 10  neworold          7738 non-null   object \n",
      " 11  parking           2612 non-null   float64\n",
      " 12  Furnished_status  4124 non-null   object \n",
      " 13  Lift              1733 non-null   float64\n",
      " 14  Landmarks         2759 non-null   object \n",
      " 15  type_of_building  7738 non-null   object \n",
      " 16  desc              7738 non-null   object \n",
      " 17  Price_sqft        7738 non-null   float64\n",
      "dtypes: float64(10), int64(1), object(7)\n",
      "memory usage: 1.1+ MB\n",
      "None\n"
     ]
    }
   ],
   "source": [
    "print(data.info())"
   ]
  },
  {
   "cell_type": "code",
   "execution_count": 67,
   "metadata": {},
   "outputs": [
    {
     "name": "stdout",
     "output_type": "stream",
     "text": [
      "Unnamed: 0\n",
      "0       1\n",
      "5198    1\n",
      "5166    1\n",
      "5165    1\n",
      "5164    1\n",
      "       ..\n",
      "2575    1\n",
      "2574    1\n",
      "2573    1\n",
      "2572    1\n",
      "7737    1\n",
      "Name: count, Length: 7738, dtype: int64\n",
      "********************\n",
      "price\n",
      "4500000.0    290\n",
      "3500000.0    252\n",
      "4000000.0    247\n",
      "6000000.0    243\n",
      "5500000.0    223\n",
      "            ... \n",
      "6860000.0      1\n",
      "5290000.0      1\n",
      "8450000.0      1\n",
      "7670000.0      1\n",
      "4510000.0      1\n",
      "Name: count, Length: 584, dtype: int64\n",
      "********************\n",
      "Address\n",
      "Raj Nagar Extension, Ghaziabad, Delhi NCR                                     163\n",
      "Indirapuram, Ghaziabad, Delhi NCR                                             152\n",
      "Greater Noida West, Greater Noida, Delhi NCR                                  100\n",
      "Noida Extension, Noida, Delhi NCR                                              63\n",
      "NH 24, Ghaziabad, Delhi NCR                                                    61\n",
      "                                                                             ... \n",
      "e block sector 57, Sector 57, Gurgaon, Delhi NCR                                1\n",
      "Ramakrishna apartment, Indraprastha Extension, New Delhi - East, Delhi NCR      1\n",
      "Rajnagar Extension Gahziabad, Raj Nagar Extension, Ghaziabad, Delhi NCR         1\n",
      "Rajendra Park, Rajendra Park, Gurgaon, Delhi NCR                                1\n",
      "sandal apartment, Shalimar Garden Extension 1, Ghaziabad, Delhi NCR             1\n",
      "Name: count, Length: 4145, dtype: int64\n",
      "********************\n",
      "area\n",
      "900.0     325\n",
      "1000.0    264\n",
      "1100.0    205\n",
      "1200.0    156\n",
      "800.0     137\n",
      "         ... \n",
      "1067.0      1\n",
      "1638.0      1\n",
      "1531.0      1\n",
      "4690.0      1\n",
      "1898.0      1\n",
      "Name: count, Length: 1102, dtype: int64\n",
      "********************\n",
      "latitude\n",
      "28.605958    101\n",
      "28.649348     79\n",
      "28.704053     62\n",
      "28.646286     37\n",
      "28.664488     30\n",
      "            ... \n",
      "28.507627      1\n",
      "28.491388      1\n",
      "28.586720      1\n",
      "28.598970      1\n",
      "28.625850      1\n",
      "Name: count, Length: 2942, dtype: int64\n",
      "********************\n",
      "longitude\n",
      "77.444512    101\n",
      "77.369626     79\n",
      "77.437331     62\n",
      "77.406051     37\n",
      "77.347494     30\n",
      "            ... \n",
      "77.261925      1\n",
      "77.409897      1\n",
      "77.336327      1\n",
      "77.433517      1\n",
      "77.435336      1\n",
      "Name: count, Length: 2912, dtype: int64\n",
      "********************\n",
      "Bedrooms\n",
      "2.0     3525\n",
      "3.0     3373\n",
      "4.0      642\n",
      "5.0       98\n",
      "6.0       46\n",
      "7.0       17\n",
      "9.0       16\n",
      "10.0      11\n",
      "8.0       10\n",
      "Name: count, dtype: int64\n",
      "********************\n",
      "Bathrooms\n",
      "2.0     5051\n",
      "3.0     1907\n",
      "4.0      551\n",
      "5.0      138\n",
      "6.0       44\n",
      "7.0       21\n",
      "8.0       12\n",
      "9.0       10\n",
      "10.0       4\n",
      "Name: count, dtype: int64\n",
      "********************\n",
      "Balcony\n",
      "2.0     1793\n",
      "3.0     1516\n",
      "1.0     1082\n",
      "4.0      613\n",
      "5.0      130\n",
      "6.0       21\n",
      "7.0        4\n",
      "10.0       3\n",
      "8.0        3\n",
      "9.0        1\n",
      "Name: count, dtype: int64\n",
      "********************\n",
      "Status\n",
      "Ready to Move         7148\n",
      "Under Construction      16\n",
      "Name: count, dtype: int64\n",
      "********************\n",
      "neworold\n",
      "Resale          6905\n",
      "New Property     833\n",
      "Name: count, dtype: int64\n",
      "********************\n",
      "parking\n",
      "1.0      1715\n",
      "2.0       640\n",
      "3.0       110\n",
      "4.0        45\n",
      "6.0        14\n",
      "         ... \n",
      "18.0        1\n",
      "602.0       1\n",
      "16.0        1\n",
      "624.0       1\n",
      "179.0       1\n",
      "Name: count, Length: 65, dtype: int64\n",
      "********************\n",
      "Furnished_status\n",
      "Semi-Furnished    2199\n",
      "Unfurnished       1230\n",
      "Furnished          695\n",
      "Name: count, dtype: int64\n",
      "********************\n",
      "Lift\n",
      "2.0     800\n",
      "1.0     296\n",
      "0.0     269\n",
      "3.0     258\n",
      "4.0      86\n",
      "6.0       8\n",
      "5.0       7\n",
      "7.0       4\n",
      "10.0      2\n",
      "8.0       2\n",
      "9.0       1\n",
      "Name: count, dtype: int64\n",
      "********************\n",
      "Landmarks\n",
      "metro station                                    8\n",
      "NH 8 and Dwarka Expressway                       6\n",
      "Shipra Mall                                      6\n",
      "DPS School                                       6\n",
      "abes engineering college                         5\n",
      "                                                ..\n",
      "Next to sector 78 metro station                  1\n",
      "Main Market is just 100 mtr walking distance.    1\n",
      "telephone exchange sector 12, gurgaon            1\n",
      "Nearby Sanjay Park                               1\n",
      "vvip mall                                        1\n",
      "Name: count, Length: 2612, dtype: int64\n",
      "********************\n",
      "type_of_building\n",
      "Flat                6226\n",
      "Individual House    1512\n",
      "Name: count, dtype: int64\n",
      "********************\n",
      "desc\n",
      "\\n                                                                                                                                                                                                                                                                                                                                                                                 3257\n",
      "\\n                    \\n                    \\n                    \\n                       Multistorey apartment is available for sale. It is a good location property. Please contact for more details.\\n                    \\n                                                                                                                                                    145\n",
      "\\n                    \\n                    \\n                    \\n                       property is in a good locality\\n                    \\n                                                                                                                                                                                                                                    25\n",
      "\\n                    \\n                    \\n                    \\n                       Builder floor apartment is available for sale. It is a good location property. Please contact for more details.\\n                    \\n                                                                                                                                                   21\n",
      "\\n                    \\n                    \\n                    \\n                       Multistorey apartment is available for sale.it is a good location property. Please contact for more details.\\n                    \\n                                                                                                                                                      20\n",
      "                                                                                                                                                                                                                                                                                                                                                                                   ... \n",
      "\\n                    \\n                    \\n                    \\n                       3rd floor with roof right without lift and parking.\\n                    \\n                                                                                                                                                                                                                1\n",
      "\\n                    \\n                    \\n                    \\n                       excellent ventilation,  fans ND Havells geysers provided  , furnished kitchen ND wardrobes made up of brand hetich\\n                    \\n                                                                                                                                                 1\n",
      "\\n                    \\n                    \\n                    \\n                       Multistorey apartment is available for sale. It has covered area 602 sq-ft, it is 2 BHK apartment. Please contact for more details.\\n                    \\n                                                                                                                                1\n",
      "\\n                    \\n                    \\n                    \\n                        It's a 2nd floor Builder Floor Apartment in a building of total 3 floors. The location has easy access to, Oriental Bank of Commerce (1 km ), Delhi College of Studies (1 km ), Parsvanath MMX (2 km ) and Vaishali Metro Station (4 km ). \\n                    \\n                       1\n",
      "\\n                    \\n                    \\n                    \\n                       vvip flat available for sale 3bhk unit below 10th floor\\n                    \\n                                                                                                                                                                                                            1\n",
      "Name: count, Length: 4181, dtype: int64\n",
      "********************\n",
      "Price_sqft\n",
      "5000.000000     125\n",
      "4000.000000      83\n",
      "5555.555556      53\n",
      "3333.333333      52\n",
      "10000.000000     52\n",
      "               ... \n",
      "5391.304348       1\n",
      "3952.901598       1\n",
      "3900.975244       1\n",
      "3361.344538       1\n",
      "3688.092729       1\n",
      "Name: count, Length: 3946, dtype: int64\n",
      "********************\n"
     ]
    }
   ],
   "source": [
    "for column in data.columns:\n",
    "    print(data[column].value_counts())\n",
    "    print('*'*20)"
   ]
  },
  {
   "cell_type": "code",
   "execution_count": 68,
   "metadata": {},
   "outputs": [
    {
     "data": {
      "text/plain": [
       "Unnamed: 0             0\n",
       "price                  0\n",
       "Address                0\n",
       "area                   0\n",
       "latitude               0\n",
       "longitude              0\n",
       "Bedrooms               0\n",
       "Bathrooms              0\n",
       "Balcony             2572\n",
       "Status               574\n",
       "neworold               0\n",
       "parking             5126\n",
       "Furnished_status    3614\n",
       "Lift                6005\n",
       "Landmarks           4979\n",
       "type_of_building       0\n",
       "desc                   0\n",
       "Price_sqft             0\n",
       "dtype: int64"
      ]
     },
     "execution_count": 68,
     "metadata": {},
     "output_type": "execute_result"
    }
   ],
   "source": [
    "data.isna().sum()"
   ]
  },
  {
   "cell_type": "code",
   "execution_count": 69,
   "metadata": {},
   "outputs": [],
   "source": [
    "data.drop(columns=['Balcony','Status','neworold','parking','Furnished_status','Lift','Landmarks','type_of_building','desc'],inplace=True)"
   ]
  },
  {
   "cell_type": "code",
   "execution_count": 70,
   "metadata": {},
   "outputs": [
    {
     "data": {
      "text/html": [
       "<div>\n",
       "<style scoped>\n",
       "    .dataframe tbody tr th:only-of-type {\n",
       "        vertical-align: middle;\n",
       "    }\n",
       "\n",
       "    .dataframe tbody tr th {\n",
       "        vertical-align: top;\n",
       "    }\n",
       "\n",
       "    .dataframe thead th {\n",
       "        text-align: right;\n",
       "    }\n",
       "</style>\n",
       "<table border=\"1\" class=\"dataframe\">\n",
       "  <thead>\n",
       "    <tr style=\"text-align: right;\">\n",
       "      <th></th>\n",
       "      <th>Unnamed: 0</th>\n",
       "      <th>price</th>\n",
       "      <th>area</th>\n",
       "      <th>latitude</th>\n",
       "      <th>longitude</th>\n",
       "      <th>Bedrooms</th>\n",
       "      <th>Bathrooms</th>\n",
       "      <th>Price_sqft</th>\n",
       "    </tr>\n",
       "  </thead>\n",
       "  <tbody>\n",
       "    <tr>\n",
       "      <th>count</th>\n",
       "      <td>7738.000000</td>\n",
       "      <td>7.738000e+03</td>\n",
       "      <td>7738.000000</td>\n",
       "      <td>7738.000000</td>\n",
       "      <td>7738.000000</td>\n",
       "      <td>7738.000000</td>\n",
       "      <td>7738.000000</td>\n",
       "      <td>7738.000000</td>\n",
       "    </tr>\n",
       "    <tr>\n",
       "      <th>mean</th>\n",
       "      <td>3868.500000</td>\n",
       "      <td>8.320635e+06</td>\n",
       "      <td>1409.506591</td>\n",
       "      <td>28.552092</td>\n",
       "      <td>77.273476</td>\n",
       "      <td>2.708193</td>\n",
       "      <td>2.501163</td>\n",
       "      <td>5543.660241</td>\n",
       "    </tr>\n",
       "    <tr>\n",
       "      <th>std</th>\n",
       "      <td>2233.912524</td>\n",
       "      <td>7.223197e+06</td>\n",
       "      <td>718.929581</td>\n",
       "      <td>0.107420</td>\n",
       "      <td>0.180606</td>\n",
       "      <td>0.877026</td>\n",
       "      <td>0.867050</td>\n",
       "      <td>2408.659307</td>\n",
       "    </tr>\n",
       "    <tr>\n",
       "      <th>min</th>\n",
       "      <td>0.000000</td>\n",
       "      <td>1.700000e+06</td>\n",
       "      <td>501.000000</td>\n",
       "      <td>28.240023</td>\n",
       "      <td>76.884101</td>\n",
       "      <td>2.000000</td>\n",
       "      <td>2.000000</td>\n",
       "      <td>2100.000000</td>\n",
       "    </tr>\n",
       "    <tr>\n",
       "      <th>25%</th>\n",
       "      <td>1934.250000</td>\n",
       "      <td>4.200000e+06</td>\n",
       "      <td>990.000000</td>\n",
       "      <td>28.455539</td>\n",
       "      <td>77.078590</td>\n",
       "      <td>2.000000</td>\n",
       "      <td>2.000000</td>\n",
       "      <td>3950.986915</td>\n",
       "    </tr>\n",
       "    <tr>\n",
       "      <th>50%</th>\n",
       "      <td>3868.500000</td>\n",
       "      <td>6.000000e+06</td>\n",
       "      <td>1250.000000</td>\n",
       "      <td>28.574637</td>\n",
       "      <td>77.345320</td>\n",
       "      <td>3.000000</td>\n",
       "      <td>2.000000</td>\n",
       "      <td>4972.674332</td>\n",
       "    </tr>\n",
       "    <tr>\n",
       "      <th>75%</th>\n",
       "      <td>5802.750000</td>\n",
       "      <td>9.500000e+06</td>\n",
       "      <td>1650.000000</td>\n",
       "      <td>28.642520</td>\n",
       "      <td>77.421054</td>\n",
       "      <td>3.000000</td>\n",
       "      <td>3.000000</td>\n",
       "      <td>6350.638693</td>\n",
       "    </tr>\n",
       "    <tr>\n",
       "      <th>max</th>\n",
       "      <td>7737.000000</td>\n",
       "      <td>8.500000e+07</td>\n",
       "      <td>9500.000000</td>\n",
       "      <td>28.799748</td>\n",
       "      <td>77.688028</td>\n",
       "      <td>10.000000</td>\n",
       "      <td>10.000000</td>\n",
       "      <td>44378.698225</td>\n",
       "    </tr>\n",
       "  </tbody>\n",
       "</table>\n",
       "</div>"
      ],
      "text/plain": [
       "        Unnamed: 0         price         area     latitude    longitude  \\\n",
       "count  7738.000000  7.738000e+03  7738.000000  7738.000000  7738.000000   \n",
       "mean   3868.500000  8.320635e+06  1409.506591    28.552092    77.273476   \n",
       "std    2233.912524  7.223197e+06   718.929581     0.107420     0.180606   \n",
       "min       0.000000  1.700000e+06   501.000000    28.240023    76.884101   \n",
       "25%    1934.250000  4.200000e+06   990.000000    28.455539    77.078590   \n",
       "50%    3868.500000  6.000000e+06  1250.000000    28.574637    77.345320   \n",
       "75%    5802.750000  9.500000e+06  1650.000000    28.642520    77.421054   \n",
       "max    7737.000000  8.500000e+07  9500.000000    28.799748    77.688028   \n",
       "\n",
       "          Bedrooms    Bathrooms    Price_sqft  \n",
       "count  7738.000000  7738.000000   7738.000000  \n",
       "mean      2.708193     2.501163   5543.660241  \n",
       "std       0.877026     0.867050   2408.659307  \n",
       "min       2.000000     2.000000   2100.000000  \n",
       "25%       2.000000     2.000000   3950.986915  \n",
       "50%       3.000000     2.000000   4972.674332  \n",
       "75%       3.000000     3.000000   6350.638693  \n",
       "max      10.000000    10.000000  44378.698225  "
      ]
     },
     "execution_count": 70,
     "metadata": {},
     "output_type": "execute_result"
    }
   ],
   "source": [
    "data.describe()"
   ]
  },
  {
   "cell_type": "code",
   "execution_count": 71,
   "metadata": {},
   "outputs": [
    {
     "name": "stdout",
     "output_type": "stream",
     "text": [
      "<class 'pandas.core.frame.DataFrame'>\n",
      "RangeIndex: 7738 entries, 0 to 7737\n",
      "Data columns (total 9 columns):\n",
      " #   Column      Non-Null Count  Dtype  \n",
      "---  ------      --------------  -----  \n",
      " 0   Unnamed: 0  7738 non-null   int64  \n",
      " 1   price       7738 non-null   float64\n",
      " 2   Address     7738 non-null   object \n",
      " 3   area        7738 non-null   float64\n",
      " 4   latitude    7738 non-null   float64\n",
      " 5   longitude   7738 non-null   float64\n",
      " 6   Bedrooms    7738 non-null   float64\n",
      " 7   Bathrooms   7738 non-null   float64\n",
      " 8   Price_sqft  7738 non-null   float64\n",
      "dtypes: float64(7), int64(1), object(1)\n",
      "memory usage: 544.2+ KB\n"
     ]
    }
   ],
   "source": [
    "data.info()"
   ]
  },
  {
   "cell_type": "code",
   "execution_count": 72,
   "metadata": {},
   "outputs": [
    {
     "data": {
      "text/plain": [
       "Address\n",
       "Raj Nagar Extension, Ghaziabad, Delhi NCR                                     163\n",
       "Indirapuram, Ghaziabad, Delhi NCR                                             152\n",
       "Greater Noida West, Greater Noida, Delhi NCR                                  100\n",
       "Noida Extension, Noida, Delhi NCR                                              63\n",
       "NH 24, Ghaziabad, Delhi NCR                                                    61\n",
       "                                                                             ... \n",
       "e block sector 57, Sector 57, Gurgaon, Delhi NCR                                1\n",
       "Ramakrishna apartment, Indraprastha Extension, New Delhi - East, Delhi NCR      1\n",
       "Rajnagar Extension Gahziabad, Raj Nagar Extension, Ghaziabad, Delhi NCR         1\n",
       "Rajendra Park, Rajendra Park, Gurgaon, Delhi NCR                                1\n",
       "sandal apartment, Shalimar Garden Extension 1, Ghaziabad, Delhi NCR             1\n",
       "Name: count, Length: 4145, dtype: int64"
      ]
     },
     "execution_count": 72,
     "metadata": {},
     "output_type": "execute_result"
    }
   ],
   "source": [
    "data['Address'].value_counts()"
   ]
  },
  {
   "cell_type": "code",
   "execution_count": 73,
   "metadata": {},
   "outputs": [
    {
     "data": {
      "text/plain": [
       "array([4148.14814815, 5906.04026846, 6918.23899371, ..., 7214.61187215,\n",
       "       4254.71698113, 3688.09272919])"
      ]
     },
     "execution_count": 73,
     "metadata": {},
     "output_type": "execute_result"
    }
   ],
   "source": [
    "data['Price_sqft'].unique()"
   ]
  },
  {
   "cell_type": "code",
   "execution_count": 74,
   "metadata": {},
   "outputs": [
    {
     "data": {
      "text/plain": [
       "array([1350., 1490., 2385., ..., 2374., 1692., 1898.])"
      ]
     },
     "execution_count": 74,
     "metadata": {},
     "output_type": "execute_result"
    }
   ],
   "source": [
    "data['area'].unique()"
   ]
  },
  {
   "cell_type": "code",
   "execution_count": 75,
   "metadata": {},
   "outputs": [
    {
     "data": {
      "text/html": [
       "<div>\n",
       "<style scoped>\n",
       "    .dataframe tbody tr th:only-of-type {\n",
       "        vertical-align: middle;\n",
       "    }\n",
       "\n",
       "    .dataframe tbody tr th {\n",
       "        vertical-align: top;\n",
       "    }\n",
       "\n",
       "    .dataframe thead th {\n",
       "        text-align: right;\n",
       "    }\n",
       "</style>\n",
       "<table border=\"1\" class=\"dataframe\">\n",
       "  <thead>\n",
       "    <tr style=\"text-align: right;\">\n",
       "      <th></th>\n",
       "      <th>Unnamed: 0</th>\n",
       "      <th>price</th>\n",
       "      <th>Address</th>\n",
       "      <th>area</th>\n",
       "      <th>latitude</th>\n",
       "      <th>longitude</th>\n",
       "      <th>Bedrooms</th>\n",
       "      <th>Bathrooms</th>\n",
       "      <th>Price_sqft</th>\n",
       "    </tr>\n",
       "  </thead>\n",
       "  <tbody>\n",
       "    <tr>\n",
       "      <th>0</th>\n",
       "      <td>0</td>\n",
       "      <td>5600000.0</td>\n",
       "      <td>Noida Extension, Noida, Delhi NCR</td>\n",
       "      <td>1350.0</td>\n",
       "      <td>28.608850</td>\n",
       "      <td>77.460560</td>\n",
       "      <td>3.0</td>\n",
       "      <td>3.0</td>\n",
       "      <td>4148.148148</td>\n",
       "    </tr>\n",
       "    <tr>\n",
       "      <th>1</th>\n",
       "      <td>1</td>\n",
       "      <td>8800000.0</td>\n",
       "      <td>Sector 79, Gurgaon, Delhi NCR</td>\n",
       "      <td>1490.0</td>\n",
       "      <td>28.374236</td>\n",
       "      <td>76.952416</td>\n",
       "      <td>3.0</td>\n",
       "      <td>3.0</td>\n",
       "      <td>5906.040268</td>\n",
       "    </tr>\n",
       "    <tr>\n",
       "      <th>2</th>\n",
       "      <td>2</td>\n",
       "      <td>16500000.0</td>\n",
       "      <td>Vaishali, Ghaziabad, Delhi NCR</td>\n",
       "      <td>2385.0</td>\n",
       "      <td>28.645769</td>\n",
       "      <td>77.385110</td>\n",
       "      <td>4.0</td>\n",
       "      <td>5.0</td>\n",
       "      <td>6918.238994</td>\n",
       "    </tr>\n",
       "    <tr>\n",
       "      <th>3</th>\n",
       "      <td>3</td>\n",
       "      <td>3810000.0</td>\n",
       "      <td>Link Road, F Block, Sector 50, Noida, Uttar Pr...</td>\n",
       "      <td>1050.0</td>\n",
       "      <td>28.566914</td>\n",
       "      <td>77.436434</td>\n",
       "      <td>2.0</td>\n",
       "      <td>2.0</td>\n",
       "      <td>3628.571429</td>\n",
       "    </tr>\n",
       "    <tr>\n",
       "      <th>4</th>\n",
       "      <td>4</td>\n",
       "      <td>6200000.0</td>\n",
       "      <td>Jaypee Pavilion Court Sector 128, Noida, Secto...</td>\n",
       "      <td>1350.0</td>\n",
       "      <td>28.520732</td>\n",
       "      <td>77.356491</td>\n",
       "      <td>2.0</td>\n",
       "      <td>2.0</td>\n",
       "      <td>4592.592593</td>\n",
       "    </tr>\n",
       "  </tbody>\n",
       "</table>\n",
       "</div>"
      ],
      "text/plain": [
       "   Unnamed: 0       price                                            Address  \\\n",
       "0           0   5600000.0                  Noida Extension, Noida, Delhi NCR   \n",
       "1           1   8800000.0                      Sector 79, Gurgaon, Delhi NCR   \n",
       "2           2  16500000.0                     Vaishali, Ghaziabad, Delhi NCR   \n",
       "3           3   3810000.0  Link Road, F Block, Sector 50, Noida, Uttar Pr...   \n",
       "4           4   6200000.0  Jaypee Pavilion Court Sector 128, Noida, Secto...   \n",
       "\n",
       "     area   latitude  longitude  Bedrooms  Bathrooms   Price_sqft  \n",
       "0  1350.0  28.608850  77.460560       3.0        3.0  4148.148148  \n",
       "1  1490.0  28.374236  76.952416       3.0        3.0  5906.040268  \n",
       "2  2385.0  28.645769  77.385110       4.0        5.0  6918.238994  \n",
       "3  1050.0  28.566914  77.436434       2.0        2.0  3628.571429  \n",
       "4  1350.0  28.520732  77.356491       2.0        2.0  4592.592593  "
      ]
     },
     "execution_count": 75,
     "metadata": {},
     "output_type": "execute_result"
    }
   ],
   "source": [
    "data.head()"
   ]
  },
  {
   "cell_type": "code",
   "execution_count": 76,
   "metadata": {},
   "outputs": [
    {
     "data": {
      "text/plain": [
       "Address\n",
       "Raj Nagar Extension, Ghaziabad, Delhi NCR                                     163\n",
       "Indirapuram, Ghaziabad, Delhi NCR                                             152\n",
       "Greater Noida West, Greater Noida, Delhi NCR                                  100\n",
       "Noida Extension, Noida, Delhi NCR                                              63\n",
       "NH 24, Ghaziabad, Delhi NCR                                                    61\n",
       "                                                                             ... \n",
       "e block sector 57, Sector 57, Gurgaon, Delhi NCR                                1\n",
       "Ramakrishna apartment, Indraprastha Extension, New Delhi - East, Delhi NCR      1\n",
       "Rajnagar Extension Gahziabad, Raj Nagar Extension, Ghaziabad, Delhi NCR         1\n",
       "Rajendra Park, Rajendra Park, Gurgaon, Delhi NCR                                1\n",
       "sandal apartment, Shalimar Garden Extension 1, Ghaziabad, Delhi NCR             1\n",
       "Name: count, Length: 4145, dtype: int64"
      ]
     },
     "execution_count": 76,
     "metadata": {},
     "output_type": "execute_result"
    }
   ],
   "source": [
    "data['Address'].value_counts()"
   ]
  },
  {
   "cell_type": "code",
   "execution_count": 77,
   "metadata": {},
   "outputs": [
    {
     "data": {
      "text/plain": [
       "Address\n",
       "Raj Nagar Extension, Ghaziabad, Delhi NCR                                     163\n",
       "Indirapuram, Ghaziabad, Delhi NCR                                             152\n",
       "Greater Noida West, Greater Noida, Delhi NCR                                  100\n",
       "Noida Extension, Noida, Delhi NCR                                              63\n",
       "NH 24, Ghaziabad, Delhi NCR                                                    61\n",
       "                                                                             ... \n",
       "e block sector 57, Sector 57, Gurgaon, Delhi NCR                                1\n",
       "Ramakrishna apartment, Indraprastha Extension, New Delhi - East, Delhi NCR      1\n",
       "Rajnagar Extension Gahziabad, Raj Nagar Extension, Ghaziabad, Delhi NCR         1\n",
       "Rajendra Park, Rajendra Park, Gurgaon, Delhi NCR                                1\n",
       "sandal apartment, Shalimar Garden Extension 1, Ghaziabad, Delhi NCR             1\n",
       "Name: count, Length: 4145, dtype: int64"
      ]
     },
     "execution_count": 77,
     "metadata": {},
     "output_type": "execute_result"
    }
   ],
   "source": [
    "data['Address']=data['Address'].apply(lambda x: x.strip())\n",
    "Address_count=data['Address'].value_counts()\n",
    "Address_count"
   ]
  },
  {
   "cell_type": "code",
   "execution_count": 78,
   "metadata": {},
   "outputs": [
    {
     "data": {
      "text/plain": [
       "Address\n",
       "Surajpur, Greater Noida, Delhi NCR                                            10\n",
       "Sector 21C, Faridabad, Delhi NCR                                              10\n",
       "Sector 107, Gurgaon, Delhi NCR                                                10\n",
       "Sector 90, Gurgaon, Delhi NCR                                                 10\n",
       "Sector 79, Noida, Delhi NCR                                                   10\n",
       "                                                                              ..\n",
       "e block sector 57, Sector 57, Gurgaon, Delhi NCR                               1\n",
       "Ramakrishna apartment, Indraprastha Extension, New Delhi - East, Delhi NCR     1\n",
       "Rajnagar Extension Gahziabad, Raj Nagar Extension, Ghaziabad, Delhi NCR        1\n",
       "Rajendra Park, Rajendra Park, Gurgaon, Delhi NCR                               1\n",
       "sandal apartment, Shalimar Garden Extension 1, Ghaziabad, Delhi NCR            1\n",
       "Name: count, Length: 4056, dtype: int64"
      ]
     },
     "execution_count": 78,
     "metadata": {},
     "output_type": "execute_result"
    }
   ],
   "source": [
    "Address_count_less_10= Address_count[Address_count<=10]\n",
    "Address_count_less_10"
   ]
  },
  {
   "cell_type": "code",
   "execution_count": 79,
   "metadata": {},
   "outputs": [
    {
     "data": {
      "text/plain": [
       "Address\n",
       "other                                           5621\n",
       "Raj Nagar Extension, Ghaziabad, Delhi NCR        163\n",
       "Indirapuram, Ghaziabad, Delhi NCR                152\n",
       "Greater Noida West, Greater Noida, Delhi NCR     100\n",
       "Noida Extension, Noida, Delhi NCR                 63\n",
       "                                                ... \n",
       "Sector 86, Faridabad, Delhi NCR                   11\n",
       "Sector 86, Gurgaon, Delhi NCR                     11\n",
       "Sector 70, Gurgaon, Delhi NCR                     11\n",
       "Sector 119, Noida, Delhi NCR                      11\n",
       "Sector 78, Faridabad, Delhi NCR                   11\n",
       "Name: count, Length: 90, dtype: int64"
      ]
     },
     "execution_count": 79,
     "metadata": {},
     "output_type": "execute_result"
    }
   ],
   "source": [
    "data['Address']=data['Address'].apply(lambda x:'other' if x in Address_count_less_10 else x)\n",
    "data['Address'].value_counts()"
   ]
  },
  {
   "cell_type": "code",
   "execution_count": 80,
   "metadata": {},
   "outputs": [
    {
     "data": {
      "text/html": [
       "<div>\n",
       "<style scoped>\n",
       "    .dataframe tbody tr th:only-of-type {\n",
       "        vertical-align: middle;\n",
       "    }\n",
       "\n",
       "    .dataframe tbody tr th {\n",
       "        vertical-align: top;\n",
       "    }\n",
       "\n",
       "    .dataframe thead th {\n",
       "        text-align: right;\n",
       "    }\n",
       "</style>\n",
       "<table border=\"1\" class=\"dataframe\">\n",
       "  <thead>\n",
       "    <tr style=\"text-align: right;\">\n",
       "      <th></th>\n",
       "      <th>Unnamed: 0</th>\n",
       "      <th>price</th>\n",
       "      <th>area</th>\n",
       "      <th>latitude</th>\n",
       "      <th>longitude</th>\n",
       "      <th>Bedrooms</th>\n",
       "      <th>Bathrooms</th>\n",
       "      <th>Price_sqft</th>\n",
       "    </tr>\n",
       "  </thead>\n",
       "  <tbody>\n",
       "    <tr>\n",
       "      <th>count</th>\n",
       "      <td>7738.000000</td>\n",
       "      <td>7.738000e+03</td>\n",
       "      <td>7738.000000</td>\n",
       "      <td>7738.000000</td>\n",
       "      <td>7738.000000</td>\n",
       "      <td>7738.000000</td>\n",
       "      <td>7738.000000</td>\n",
       "      <td>7738.000000</td>\n",
       "    </tr>\n",
       "    <tr>\n",
       "      <th>mean</th>\n",
       "      <td>3868.500000</td>\n",
       "      <td>8.320635e+06</td>\n",
       "      <td>1409.506591</td>\n",
       "      <td>28.552092</td>\n",
       "      <td>77.273476</td>\n",
       "      <td>2.708193</td>\n",
       "      <td>2.501163</td>\n",
       "      <td>5543.660241</td>\n",
       "    </tr>\n",
       "    <tr>\n",
       "      <th>std</th>\n",
       "      <td>2233.912524</td>\n",
       "      <td>7.223197e+06</td>\n",
       "      <td>718.929581</td>\n",
       "      <td>0.107420</td>\n",
       "      <td>0.180606</td>\n",
       "      <td>0.877026</td>\n",
       "      <td>0.867050</td>\n",
       "      <td>2408.659307</td>\n",
       "    </tr>\n",
       "    <tr>\n",
       "      <th>min</th>\n",
       "      <td>0.000000</td>\n",
       "      <td>1.700000e+06</td>\n",
       "      <td>501.000000</td>\n",
       "      <td>28.240023</td>\n",
       "      <td>76.884101</td>\n",
       "      <td>2.000000</td>\n",
       "      <td>2.000000</td>\n",
       "      <td>2100.000000</td>\n",
       "    </tr>\n",
       "    <tr>\n",
       "      <th>25%</th>\n",
       "      <td>1934.250000</td>\n",
       "      <td>4.200000e+06</td>\n",
       "      <td>990.000000</td>\n",
       "      <td>28.455539</td>\n",
       "      <td>77.078590</td>\n",
       "      <td>2.000000</td>\n",
       "      <td>2.000000</td>\n",
       "      <td>3950.986915</td>\n",
       "    </tr>\n",
       "    <tr>\n",
       "      <th>50%</th>\n",
       "      <td>3868.500000</td>\n",
       "      <td>6.000000e+06</td>\n",
       "      <td>1250.000000</td>\n",
       "      <td>28.574637</td>\n",
       "      <td>77.345320</td>\n",
       "      <td>3.000000</td>\n",
       "      <td>2.000000</td>\n",
       "      <td>4972.674332</td>\n",
       "    </tr>\n",
       "    <tr>\n",
       "      <th>75%</th>\n",
       "      <td>5802.750000</td>\n",
       "      <td>9.500000e+06</td>\n",
       "      <td>1650.000000</td>\n",
       "      <td>28.642520</td>\n",
       "      <td>77.421054</td>\n",
       "      <td>3.000000</td>\n",
       "      <td>3.000000</td>\n",
       "      <td>6350.638693</td>\n",
       "    </tr>\n",
       "    <tr>\n",
       "      <th>max</th>\n",
       "      <td>7737.000000</td>\n",
       "      <td>8.500000e+07</td>\n",
       "      <td>9500.000000</td>\n",
       "      <td>28.799748</td>\n",
       "      <td>77.688028</td>\n",
       "      <td>10.000000</td>\n",
       "      <td>10.000000</td>\n",
       "      <td>44378.698225</td>\n",
       "    </tr>\n",
       "  </tbody>\n",
       "</table>\n",
       "</div>"
      ],
      "text/plain": [
       "        Unnamed: 0         price         area     latitude    longitude  \\\n",
       "count  7738.000000  7.738000e+03  7738.000000  7738.000000  7738.000000   \n",
       "mean   3868.500000  8.320635e+06  1409.506591    28.552092    77.273476   \n",
       "std    2233.912524  7.223197e+06   718.929581     0.107420     0.180606   \n",
       "min       0.000000  1.700000e+06   501.000000    28.240023    76.884101   \n",
       "25%    1934.250000  4.200000e+06   990.000000    28.455539    77.078590   \n",
       "50%    3868.500000  6.000000e+06  1250.000000    28.574637    77.345320   \n",
       "75%    5802.750000  9.500000e+06  1650.000000    28.642520    77.421054   \n",
       "max    7737.000000  8.500000e+07  9500.000000    28.799748    77.688028   \n",
       "\n",
       "          Bedrooms    Bathrooms    Price_sqft  \n",
       "count  7738.000000  7738.000000   7738.000000  \n",
       "mean      2.708193     2.501163   5543.660241  \n",
       "std       0.877026     0.867050   2408.659307  \n",
       "min       2.000000     2.000000   2100.000000  \n",
       "25%       2.000000     2.000000   3950.986915  \n",
       "50%       3.000000     2.000000   4972.674332  \n",
       "75%       3.000000     3.000000   6350.638693  \n",
       "max      10.000000    10.000000  44378.698225  "
      ]
     },
     "execution_count": 80,
     "metadata": {},
     "output_type": "execute_result"
    }
   ],
   "source": [
    "data.describe()"
   ]
  },
  {
   "cell_type": "code",
   "execution_count": 81,
   "metadata": {},
   "outputs": [
    {
     "data": {
      "text/plain": [
       "count    7738.000000\n",
       "mean     2129.616657\n",
       "std       857.763379\n",
       "min       411.764706\n",
       "25%      1564.210868\n",
       "50%      1943.109374\n",
       "75%      2500.000000\n",
       "max      8055.555556\n",
       "dtype: float64"
      ]
     },
     "execution_count": 81,
     "metadata": {},
     "output_type": "execute_result"
    }
   ],
   "source": [
    "(data['Price_sqft']/data['Bedrooms']).describe()"
   ]
  },
  {
   "cell_type": "code",
   "execution_count": 82,
   "metadata": {},
   "outputs": [
    {
     "data": {
      "text/plain": [
       "count     7738.000000\n",
       "mean      5543.660241\n",
       "std       2408.659307\n",
       "min       2100.000000\n",
       "25%       3950.986915\n",
       "50%       4972.674332\n",
       "75%       6350.638693\n",
       "max      44378.698225\n",
       "Name: Price_sqft, dtype: float64"
      ]
     },
     "execution_count": 82,
     "metadata": {},
     "output_type": "execute_result"
    }
   ],
   "source": [
    "data.Price_sqft.describe()"
   ]
  },
  {
   "cell_type": "code",
   "execution_count": 83,
   "metadata": {},
   "outputs": [
    {
     "data": {
      "text/html": [
       "<div>\n",
       "<style scoped>\n",
       "    .dataframe tbody tr th:only-of-type {\n",
       "        vertical-align: middle;\n",
       "    }\n",
       "\n",
       "    .dataframe tbody tr th {\n",
       "        vertical-align: top;\n",
       "    }\n",
       "\n",
       "    .dataframe thead th {\n",
       "        text-align: right;\n",
       "    }\n",
       "</style>\n",
       "<table border=\"1\" class=\"dataframe\">\n",
       "  <thead>\n",
       "    <tr style=\"text-align: right;\">\n",
       "      <th></th>\n",
       "      <th>Unnamed: 0</th>\n",
       "      <th>price</th>\n",
       "      <th>area</th>\n",
       "      <th>latitude</th>\n",
       "      <th>longitude</th>\n",
       "      <th>Bedrooms</th>\n",
       "      <th>Bathrooms</th>\n",
       "      <th>Price_sqft</th>\n",
       "    </tr>\n",
       "  </thead>\n",
       "  <tbody>\n",
       "    <tr>\n",
       "      <th>count</th>\n",
       "      <td>5969.000000</td>\n",
       "      <td>5.969000e+03</td>\n",
       "      <td>5969.000000</td>\n",
       "      <td>5969.000000</td>\n",
       "      <td>5969.000000</td>\n",
       "      <td>5969.000000</td>\n",
       "      <td>5969.000000</td>\n",
       "      <td>5969.000000</td>\n",
       "    </tr>\n",
       "    <tr>\n",
       "      <th>mean</th>\n",
       "      <td>3802.831295</td>\n",
       "      <td>7.269389e+06</td>\n",
       "      <td>1374.621712</td>\n",
       "      <td>28.548042</td>\n",
       "      <td>77.276815</td>\n",
       "      <td>2.671804</td>\n",
       "      <td>2.459541</td>\n",
       "      <td>5088.043160</td>\n",
       "    </tr>\n",
       "    <tr>\n",
       "      <th>std</th>\n",
       "      <td>2211.934168</td>\n",
       "      <td>5.076023e+06</td>\n",
       "      <td>682.610593</td>\n",
       "      <td>0.106263</td>\n",
       "      <td>0.182562</td>\n",
       "      <td>0.836106</td>\n",
       "      <td>0.815656</td>\n",
       "      <td>1321.402541</td>\n",
       "    </tr>\n",
       "    <tr>\n",
       "      <th>min</th>\n",
       "      <td>0.000000</td>\n",
       "      <td>1.850000e+06</td>\n",
       "      <td>501.000000</td>\n",
       "      <td>28.240023</td>\n",
       "      <td>76.884101</td>\n",
       "      <td>2.000000</td>\n",
       "      <td>2.000000</td>\n",
       "      <td>2777.777778</td>\n",
       "    </tr>\n",
       "    <tr>\n",
       "      <th>25%</th>\n",
       "      <td>1874.000000</td>\n",
       "      <td>4.200000e+06</td>\n",
       "      <td>970.000000</td>\n",
       "      <td>28.453581</td>\n",
       "      <td>77.075775</td>\n",
       "      <td>2.000000</td>\n",
       "      <td>2.000000</td>\n",
       "      <td>4000.000000</td>\n",
       "    </tr>\n",
       "    <tr>\n",
       "      <th>50%</th>\n",
       "      <td>3803.000000</td>\n",
       "      <td>5.900000e+06</td>\n",
       "      <td>1230.000000</td>\n",
       "      <td>28.571538</td>\n",
       "      <td>77.350297</td>\n",
       "      <td>3.000000</td>\n",
       "      <td>2.000000</td>\n",
       "      <td>4901.960784</td>\n",
       "    </tr>\n",
       "    <tr>\n",
       "      <th>75%</th>\n",
       "      <td>5710.000000</td>\n",
       "      <td>8.500000e+06</td>\n",
       "      <td>1615.000000</td>\n",
       "      <td>28.640300</td>\n",
       "      <td>77.418415</td>\n",
       "      <td>3.000000</td>\n",
       "      <td>3.000000</td>\n",
       "      <td>5909.090909</td>\n",
       "    </tr>\n",
       "    <tr>\n",
       "      <th>max</th>\n",
       "      <td>7737.000000</td>\n",
       "      <td>7.000000e+07</td>\n",
       "      <td>9500.000000</td>\n",
       "      <td>28.799748</td>\n",
       "      <td>77.570898</td>\n",
       "      <td>10.000000</td>\n",
       "      <td>10.000000</td>\n",
       "      <td>9888.888889</td>\n",
       "    </tr>\n",
       "  </tbody>\n",
       "</table>\n",
       "</div>"
      ],
      "text/plain": [
       "        Unnamed: 0         price         area     latitude    longitude  \\\n",
       "count  5969.000000  5.969000e+03  5969.000000  5969.000000  5969.000000   \n",
       "mean   3802.831295  7.269389e+06  1374.621712    28.548042    77.276815   \n",
       "std    2211.934168  5.076023e+06   682.610593     0.106263     0.182562   \n",
       "min       0.000000  1.850000e+06   501.000000    28.240023    76.884101   \n",
       "25%    1874.000000  4.200000e+06   970.000000    28.453581    77.075775   \n",
       "50%    3803.000000  5.900000e+06  1230.000000    28.571538    77.350297   \n",
       "75%    5710.000000  8.500000e+06  1615.000000    28.640300    77.418415   \n",
       "max    7737.000000  7.000000e+07  9500.000000    28.799748    77.570898   \n",
       "\n",
       "          Bedrooms    Bathrooms   Price_sqft  \n",
       "count  5969.000000  5969.000000  5969.000000  \n",
       "mean      2.671804     2.459541  5088.043160  \n",
       "std       0.836106     0.815656  1321.402541  \n",
       "min       2.000000     2.000000  2777.777778  \n",
       "25%       2.000000     2.000000  4000.000000  \n",
       "50%       3.000000     2.000000  4901.960784  \n",
       "75%       3.000000     3.000000  5909.090909  \n",
       "max      10.000000    10.000000  9888.888889  "
      ]
     },
     "execution_count": 83,
     "metadata": {},
     "output_type": "execute_result"
    }
   ],
   "source": [
    "# Removing outliers from the price per square feet\n",
    "def remove_outliers_sqft(df):\n",
    "    df_output =pd.DataFrame()\n",
    "    for key,subdf in df.groupby('Address'):\n",
    "        m=np.mean(subdf.Price_sqft)\n",
    "        st=np.std(subdf.Price_sqft)\n",
    "        gen_df =subdf[(subdf.Price_sqft>(m-st))&(subdf.Price_sqft<=(m+st))]\n",
    "        df_output=pd.concat([df_output,gen_df],ignore_index=True)\n",
    "    return df_output\n",
    "data=remove_outliers_sqft(data)\n",
    "data.describe()"
   ]
  },
  {
   "cell_type": "code",
   "execution_count": 84,
   "metadata": {},
   "outputs": [],
   "source": [
    "def bedroom_outlier_remover(df):\n",
    "    exclude_indices =np.array()\n",
    "    for location,location_df in df.groupby('Address'):\n",
    "        bedroom_stats={}\n",
    "        for bedroom,bedroom_df in location_df.groupby('Bedrooms'):\n",
    "            bedroom_stats[bedroom]={\n",
    "                'mean':np.mean(bedroom_df.Price_sqft),\n",
    "                'std':np.std(bedroom_df.Price_sqft),\n",
    "                'count':bedroom_df.shape[0]\n",
    "            }\n",
    "        for bedroom,bedroom_df in location_df.groupby('Bedrooms'):\n",
    "            stats=bedroom_stats.get(bedroom-1)\n",
    "            if stats and stats['count']>5:\n",
    "                exclude_indices=np.append(exclude_indices,bedroom_df[bedroom.Price_sqft<(stats['mean'])].index.values)\n",
    "    return df.drop(exclude_indices,axis='index')\n"
   ]
  },
  {
   "cell_type": "code",
   "execution_count": 85,
   "metadata": {},
   "outputs": [
    {
     "data": {
      "text/plain": [
       "(5969, 9)"
      ]
     },
     "execution_count": 85,
     "metadata": {},
     "output_type": "execute_result"
    }
   ],
   "source": [
    "data.shape"
   ]
  },
  {
   "cell_type": "code",
   "execution_count": 86,
   "metadata": {},
   "outputs": [],
   "source": [
    "def bathroom_outlier_remover(df):\n",
    "    exclude_indices =np.array()\n",
    "    for location,location_df in df.groupby('Address'):\n",
    "        bathroom_stats={}\n",
    "        for bathroom,bathroom_df in location_df.groupby('Bathrooms'):\n",
    "            bathroom_stats[bathroom]={\n",
    "                'mean':np.mean(bathroom_df.Price_sqft),\n",
    "                'std':np.std(bathroom_df.Price_sqft),\n",
    "                'count':bathroom_df.shape[0]\n",
    "            }\n",
    "        for bathroom,bathroom_df in location_df.groupby('Bathrooms'):\n",
    "            stats=bathroom_stats.get(bathroom-1)\n",
    "            if stats and stats['count']>5:\n",
    "                exclude_indices=np.append(exclude_indices,bathroom_df[bathroom.Price_sqft<(stats['mean'])].index.values)\n",
    "    return df.drop(exclude_indices,axis='index')"
   ]
  },
  {
   "cell_type": "code",
   "execution_count": 87,
   "metadata": {},
   "outputs": [
    {
     "data": {
      "text/html": [
       "<div>\n",
       "<style scoped>\n",
       "    .dataframe tbody tr th:only-of-type {\n",
       "        vertical-align: middle;\n",
       "    }\n",
       "\n",
       "    .dataframe tbody tr th {\n",
       "        vertical-align: top;\n",
       "    }\n",
       "\n",
       "    .dataframe thead th {\n",
       "        text-align: right;\n",
       "    }\n",
       "</style>\n",
       "<table border=\"1\" class=\"dataframe\">\n",
       "  <thead>\n",
       "    <tr style=\"text-align: right;\">\n",
       "      <th></th>\n",
       "      <th>Unnamed: 0</th>\n",
       "      <th>price</th>\n",
       "      <th>Address</th>\n",
       "      <th>area</th>\n",
       "      <th>latitude</th>\n",
       "      <th>longitude</th>\n",
       "      <th>Bedrooms</th>\n",
       "      <th>Bathrooms</th>\n",
       "      <th>Price_sqft</th>\n",
       "    </tr>\n",
       "  </thead>\n",
       "  <tbody>\n",
       "    <tr>\n",
       "      <th>0</th>\n",
       "      <td>750</td>\n",
       "      <td>7000000.0</td>\n",
       "      <td>Ahinsa Khand 2, Ghaziabad, Delhi NCR</td>\n",
       "      <td>1595.0</td>\n",
       "      <td>28.642848</td>\n",
       "      <td>77.382637</td>\n",
       "      <td>3.0</td>\n",
       "      <td>2.0</td>\n",
       "      <td>4388.714734</td>\n",
       "    </tr>\n",
       "    <tr>\n",
       "      <th>1</th>\n",
       "      <td>2475</td>\n",
       "      <td>8000000.0</td>\n",
       "      <td>Ahinsa Khand 2, Ghaziabad, Delhi NCR</td>\n",
       "      <td>1550.0</td>\n",
       "      <td>28.642848</td>\n",
       "      <td>77.382637</td>\n",
       "      <td>3.0</td>\n",
       "      <td>2.0</td>\n",
       "      <td>5161.290323</td>\n",
       "    </tr>\n",
       "    <tr>\n",
       "      <th>2</th>\n",
       "      <td>2547</td>\n",
       "      <td>4700000.0</td>\n",
       "      <td>Ahinsa Khand 2, Ghaziabad, Delhi NCR</td>\n",
       "      <td>1073.0</td>\n",
       "      <td>28.642847</td>\n",
       "      <td>77.382637</td>\n",
       "      <td>2.0</td>\n",
       "      <td>2.0</td>\n",
       "      <td>4380.242311</td>\n",
       "    </tr>\n",
       "    <tr>\n",
       "      <th>3</th>\n",
       "      <td>3141</td>\n",
       "      <td>7000000.0</td>\n",
       "      <td>Ahinsa Khand 2, Ghaziabad, Delhi NCR</td>\n",
       "      <td>1550.0</td>\n",
       "      <td>28.642848</td>\n",
       "      <td>77.382637</td>\n",
       "      <td>3.0</td>\n",
       "      <td>2.0</td>\n",
       "      <td>4516.129032</td>\n",
       "    </tr>\n",
       "    <tr>\n",
       "      <th>4</th>\n",
       "      <td>3488</td>\n",
       "      <td>6000000.0</td>\n",
       "      <td>Ahinsa Khand 2, Ghaziabad, Delhi NCR</td>\n",
       "      <td>1300.0</td>\n",
       "      <td>28.642848</td>\n",
       "      <td>77.382637</td>\n",
       "      <td>2.0</td>\n",
       "      <td>2.0</td>\n",
       "      <td>4615.384615</td>\n",
       "    </tr>\n",
       "  </tbody>\n",
       "</table>\n",
       "</div>"
      ],
      "text/plain": [
       "   Unnamed: 0      price                               Address    area  \\\n",
       "0         750  7000000.0  Ahinsa Khand 2, Ghaziabad, Delhi NCR  1595.0   \n",
       "1        2475  8000000.0  Ahinsa Khand 2, Ghaziabad, Delhi NCR  1550.0   \n",
       "2        2547  4700000.0  Ahinsa Khand 2, Ghaziabad, Delhi NCR  1073.0   \n",
       "3        3141  7000000.0  Ahinsa Khand 2, Ghaziabad, Delhi NCR  1550.0   \n",
       "4        3488  6000000.0  Ahinsa Khand 2, Ghaziabad, Delhi NCR  1300.0   \n",
       "\n",
       "    latitude  longitude  Bedrooms  Bathrooms   Price_sqft  \n",
       "0  28.642848  77.382637       3.0        2.0  4388.714734  \n",
       "1  28.642848  77.382637       3.0        2.0  5161.290323  \n",
       "2  28.642847  77.382637       2.0        2.0  4380.242311  \n",
       "3  28.642848  77.382637       3.0        2.0  4516.129032  \n",
       "4  28.642848  77.382637       2.0        2.0  4615.384615  "
      ]
     },
     "execution_count": 87,
     "metadata": {},
     "output_type": "execute_result"
    }
   ],
   "source": [
    "data.head()"
   ]
  },
  {
   "cell_type": "code",
   "execution_count": 91,
   "metadata": {},
   "outputs": [],
   "source": [
    "data.rename(columns={'Bedrooms':'BHK','area':'Total_sqft'}, inplace=True)"
   ]
  },
  {
   "cell_type": "code",
   "execution_count": 93,
   "metadata": {},
   "outputs": [],
   "source": [
    "data.head()\n",
    "data.drop(columns=['Price_sqft'],inplace=True)"
   ]
  },
  {
   "cell_type": "code",
   "execution_count": 94,
   "metadata": {},
   "outputs": [
    {
     "data": {
      "text/html": [
       "<div>\n",
       "<style scoped>\n",
       "    .dataframe tbody tr th:only-of-type {\n",
       "        vertical-align: middle;\n",
       "    }\n",
       "\n",
       "    .dataframe tbody tr th {\n",
       "        vertical-align: top;\n",
       "    }\n",
       "\n",
       "    .dataframe thead th {\n",
       "        text-align: right;\n",
       "    }\n",
       "</style>\n",
       "<table border=\"1\" class=\"dataframe\">\n",
       "  <thead>\n",
       "    <tr style=\"text-align: right;\">\n",
       "      <th></th>\n",
       "      <th>Unnamed: 0</th>\n",
       "      <th>price</th>\n",
       "      <th>Address</th>\n",
       "      <th>Total_sqft</th>\n",
       "      <th>latitude</th>\n",
       "      <th>longitude</th>\n",
       "      <th>BHK</th>\n",
       "      <th>Bathrooms</th>\n",
       "    </tr>\n",
       "  </thead>\n",
       "  <tbody>\n",
       "    <tr>\n",
       "      <th>0</th>\n",
       "      <td>750</td>\n",
       "      <td>7000000.0</td>\n",
       "      <td>Ahinsa Khand 2, Ghaziabad, Delhi NCR</td>\n",
       "      <td>1595.0</td>\n",
       "      <td>28.642848</td>\n",
       "      <td>77.382637</td>\n",
       "      <td>3.0</td>\n",
       "      <td>2.0</td>\n",
       "    </tr>\n",
       "    <tr>\n",
       "      <th>1</th>\n",
       "      <td>2475</td>\n",
       "      <td>8000000.0</td>\n",
       "      <td>Ahinsa Khand 2, Ghaziabad, Delhi NCR</td>\n",
       "      <td>1550.0</td>\n",
       "      <td>28.642848</td>\n",
       "      <td>77.382637</td>\n",
       "      <td>3.0</td>\n",
       "      <td>2.0</td>\n",
       "    </tr>\n",
       "    <tr>\n",
       "      <th>2</th>\n",
       "      <td>2547</td>\n",
       "      <td>4700000.0</td>\n",
       "      <td>Ahinsa Khand 2, Ghaziabad, Delhi NCR</td>\n",
       "      <td>1073.0</td>\n",
       "      <td>28.642847</td>\n",
       "      <td>77.382637</td>\n",
       "      <td>2.0</td>\n",
       "      <td>2.0</td>\n",
       "    </tr>\n",
       "    <tr>\n",
       "      <th>3</th>\n",
       "      <td>3141</td>\n",
       "      <td>7000000.0</td>\n",
       "      <td>Ahinsa Khand 2, Ghaziabad, Delhi NCR</td>\n",
       "      <td>1550.0</td>\n",
       "      <td>28.642848</td>\n",
       "      <td>77.382637</td>\n",
       "      <td>3.0</td>\n",
       "      <td>2.0</td>\n",
       "    </tr>\n",
       "    <tr>\n",
       "      <th>4</th>\n",
       "      <td>3488</td>\n",
       "      <td>6000000.0</td>\n",
       "      <td>Ahinsa Khand 2, Ghaziabad, Delhi NCR</td>\n",
       "      <td>1300.0</td>\n",
       "      <td>28.642848</td>\n",
       "      <td>77.382637</td>\n",
       "      <td>2.0</td>\n",
       "      <td>2.0</td>\n",
       "    </tr>\n",
       "  </tbody>\n",
       "</table>\n",
       "</div>"
      ],
      "text/plain": [
       "   Unnamed: 0      price                               Address  Total_sqft  \\\n",
       "0         750  7000000.0  Ahinsa Khand 2, Ghaziabad, Delhi NCR      1595.0   \n",
       "1        2475  8000000.0  Ahinsa Khand 2, Ghaziabad, Delhi NCR      1550.0   \n",
       "2        2547  4700000.0  Ahinsa Khand 2, Ghaziabad, Delhi NCR      1073.0   \n",
       "3        3141  7000000.0  Ahinsa Khand 2, Ghaziabad, Delhi NCR      1550.0   \n",
       "4        3488  6000000.0  Ahinsa Khand 2, Ghaziabad, Delhi NCR      1300.0   \n",
       "\n",
       "    latitude  longitude  BHK  Bathrooms  \n",
       "0  28.642848  77.382637  3.0        2.0  \n",
       "1  28.642848  77.382637  3.0        2.0  \n",
       "2  28.642847  77.382637  2.0        2.0  \n",
       "3  28.642848  77.382637  3.0        2.0  \n",
       "4  28.642848  77.382637  2.0        2.0  "
      ]
     },
     "execution_count": 94,
     "metadata": {},
     "output_type": "execute_result"
    }
   ],
   "source": [
    "data.head()"
   ]
  },
  {
   "cell_type": "code",
   "execution_count": 95,
   "metadata": {},
   "outputs": [],
   "source": [
    "data.to_csv(\"cleaned_data.csv\")"
   ]
  },
  {
   "cell_type": "code",
   "execution_count": 96,
   "metadata": {},
   "outputs": [],
   "source": [
    "x=data.drop(columns=['price'])\n",
    "y=data['price']"
   ]
  },
  {
   "cell_type": "code",
   "execution_count": 97,
   "metadata": {},
   "outputs": [],
   "source": [
    "from sklearn.model_selection import train_test_split\n",
    "from sklearn.linear_model import LinearRegression,Lasso,Ridge\n",
    "from sklearn.preprocessing import OneHotEncoder, StandardScaler\n",
    "from sklearn.compose import make_column_transformer\n",
    "from sklearn.pipeline import make_pipeline\n",
    "from sklearn.metrics import r2_score"
   ]
  },
  {
   "cell_type": "code",
   "execution_count": 98,
   "metadata": {},
   "outputs": [
    {
     "name": "stdout",
     "output_type": "stream",
     "text": [
      "(4775, 7)\n",
      "(1194, 7)\n"
     ]
    }
   ],
   "source": [
    "x_train,x_test,y_train,y_test=train_test_split(x,y,test_size=0.2,random_state=0)\n",
    "print(x_train.shape)\n",
    "print(x_test.shape)"
   ]
  },
  {
   "cell_type": "code",
   "execution_count": 101,
   "metadata": {},
   "outputs": [
    {
     "name": "stderr",
     "output_type": "stream",
     "text": [
      "c:\\Users\\HP\\AppData\\Local\\Programs\\Python\\Python312\\Lib\\site-packages\\sklearn\\preprocessing\\_encoders.py:975: FutureWarning: `sparse` was renamed to `sparse_output` in version 1.2 and will be removed in 1.4. `sparse_output` is ignored unless you leave `sparse` to its default value.\n",
      "  warnings.warn(\n"
     ]
    },
    {
     "data": {
      "text/html": [
       "<style>#sk-container-id-1 {color: black;}#sk-container-id-1 pre{padding: 0;}#sk-container-id-1 div.sk-toggleable {background-color: white;}#sk-container-id-1 label.sk-toggleable__label {cursor: pointer;display: block;width: 100%;margin-bottom: 0;padding: 0.3em;box-sizing: border-box;text-align: center;}#sk-container-id-1 label.sk-toggleable__label-arrow:before {content: \"▸\";float: left;margin-right: 0.25em;color: #696969;}#sk-container-id-1 label.sk-toggleable__label-arrow:hover:before {color: black;}#sk-container-id-1 div.sk-estimator:hover label.sk-toggleable__label-arrow:before {color: black;}#sk-container-id-1 div.sk-toggleable__content {max-height: 0;max-width: 0;overflow: hidden;text-align: left;background-color: #f0f8ff;}#sk-container-id-1 div.sk-toggleable__content pre {margin: 0.2em;color: black;border-radius: 0.25em;background-color: #f0f8ff;}#sk-container-id-1 input.sk-toggleable__control:checked~div.sk-toggleable__content {max-height: 200px;max-width: 100%;overflow: auto;}#sk-container-id-1 input.sk-toggleable__control:checked~label.sk-toggleable__label-arrow:before {content: \"▾\";}#sk-container-id-1 div.sk-estimator input.sk-toggleable__control:checked~label.sk-toggleable__label {background-color: #d4ebff;}#sk-container-id-1 div.sk-label input.sk-toggleable__control:checked~label.sk-toggleable__label {background-color: #d4ebff;}#sk-container-id-1 input.sk-hidden--visually {border: 0;clip: rect(1px 1px 1px 1px);clip: rect(1px, 1px, 1px, 1px);height: 1px;margin: -1px;overflow: hidden;padding: 0;position: absolute;width: 1px;}#sk-container-id-1 div.sk-estimator {font-family: monospace;background-color: #f0f8ff;border: 1px dotted black;border-radius: 0.25em;box-sizing: border-box;margin-bottom: 0.5em;}#sk-container-id-1 div.sk-estimator:hover {background-color: #d4ebff;}#sk-container-id-1 div.sk-parallel-item::after {content: \"\";width: 100%;border-bottom: 1px solid gray;flex-grow: 1;}#sk-container-id-1 div.sk-label:hover label.sk-toggleable__label {background-color: #d4ebff;}#sk-container-id-1 div.sk-serial::before {content: \"\";position: absolute;border-left: 1px solid gray;box-sizing: border-box;top: 0;bottom: 0;left: 50%;z-index: 0;}#sk-container-id-1 div.sk-serial {display: flex;flex-direction: column;align-items: center;background-color: white;padding-right: 0.2em;padding-left: 0.2em;position: relative;}#sk-container-id-1 div.sk-item {position: relative;z-index: 1;}#sk-container-id-1 div.sk-parallel {display: flex;align-items: stretch;justify-content: center;background-color: white;position: relative;}#sk-container-id-1 div.sk-item::before, #sk-container-id-1 div.sk-parallel-item::before {content: \"\";position: absolute;border-left: 1px solid gray;box-sizing: border-box;top: 0;bottom: 0;left: 50%;z-index: -1;}#sk-container-id-1 div.sk-parallel-item {display: flex;flex-direction: column;z-index: 1;position: relative;background-color: white;}#sk-container-id-1 div.sk-parallel-item:first-child::after {align-self: flex-end;width: 50%;}#sk-container-id-1 div.sk-parallel-item:last-child::after {align-self: flex-start;width: 50%;}#sk-container-id-1 div.sk-parallel-item:only-child::after {width: 0;}#sk-container-id-1 div.sk-dashed-wrapped {border: 1px dashed gray;margin: 0 0.4em 0.5em 0.4em;box-sizing: border-box;padding-bottom: 0.4em;background-color: white;}#sk-container-id-1 div.sk-label label {font-family: monospace;font-weight: bold;display: inline-block;line-height: 1.2em;}#sk-container-id-1 div.sk-label-container {text-align: center;}#sk-container-id-1 div.sk-container {/* jupyter's `normalize.less` sets `[hidden] { display: none; }` but bootstrap.min.css set `[hidden] { display: none !important; }` so we also need the `!important` here to be able to override the default hidden behavior on the sphinx rendered scikit-learn.org. See: https://github.com/scikit-learn/scikit-learn/issues/21755 */display: inline-block !important;position: relative;}#sk-container-id-1 div.sk-text-repr-fallback {display: none;}</style><div id=\"sk-container-id-1\" class=\"sk-top-container\"><div class=\"sk-text-repr-fallback\"><pre>Pipeline(steps=[(&#x27;columntransformer&#x27;,\n",
       "                 ColumnTransformer(remainder=&#x27;passthrough&#x27;,\n",
       "                                   transformers=[(&#x27;onehotencoder&#x27;,\n",
       "                                                  OneHotEncoder(sparse=False),\n",
       "                                                  [&#x27;Address&#x27;])])),\n",
       "                (&#x27;standardscaler&#x27;, StandardScaler()),\n",
       "                (&#x27;linearregression&#x27;, LinearRegression())])</pre><b>In a Jupyter environment, please rerun this cell to show the HTML representation or trust the notebook. <br />On GitHub, the HTML representation is unable to render, please try loading this page with nbviewer.org.</b></div><div class=\"sk-container\" hidden><div class=\"sk-item sk-dashed-wrapped\"><div class=\"sk-label-container\"><div class=\"sk-label sk-toggleable\"><input class=\"sk-toggleable__control sk-hidden--visually\" id=\"sk-estimator-id-1\" type=\"checkbox\" ><label for=\"sk-estimator-id-1\" class=\"sk-toggleable__label sk-toggleable__label-arrow\">Pipeline</label><div class=\"sk-toggleable__content\"><pre>Pipeline(steps=[(&#x27;columntransformer&#x27;,\n",
       "                 ColumnTransformer(remainder=&#x27;passthrough&#x27;,\n",
       "                                   transformers=[(&#x27;onehotencoder&#x27;,\n",
       "                                                  OneHotEncoder(sparse=False),\n",
       "                                                  [&#x27;Address&#x27;])])),\n",
       "                (&#x27;standardscaler&#x27;, StandardScaler()),\n",
       "                (&#x27;linearregression&#x27;, LinearRegression())])</pre></div></div></div><div class=\"sk-serial\"><div class=\"sk-item sk-dashed-wrapped\"><div class=\"sk-label-container\"><div class=\"sk-label sk-toggleable\"><input class=\"sk-toggleable__control sk-hidden--visually\" id=\"sk-estimator-id-2\" type=\"checkbox\" ><label for=\"sk-estimator-id-2\" class=\"sk-toggleable__label sk-toggleable__label-arrow\">columntransformer: ColumnTransformer</label><div class=\"sk-toggleable__content\"><pre>ColumnTransformer(remainder=&#x27;passthrough&#x27;,\n",
       "                  transformers=[(&#x27;onehotencoder&#x27;, OneHotEncoder(sparse=False),\n",
       "                                 [&#x27;Address&#x27;])])</pre></div></div></div><div class=\"sk-parallel\"><div class=\"sk-parallel-item\"><div class=\"sk-item\"><div class=\"sk-label-container\"><div class=\"sk-label sk-toggleable\"><input class=\"sk-toggleable__control sk-hidden--visually\" id=\"sk-estimator-id-3\" type=\"checkbox\" ><label for=\"sk-estimator-id-3\" class=\"sk-toggleable__label sk-toggleable__label-arrow\">onehotencoder</label><div class=\"sk-toggleable__content\"><pre>[&#x27;Address&#x27;]</pre></div></div></div><div class=\"sk-serial\"><div class=\"sk-item\"><div class=\"sk-estimator sk-toggleable\"><input class=\"sk-toggleable__control sk-hidden--visually\" id=\"sk-estimator-id-4\" type=\"checkbox\" ><label for=\"sk-estimator-id-4\" class=\"sk-toggleable__label sk-toggleable__label-arrow\">OneHotEncoder</label><div class=\"sk-toggleable__content\"><pre>OneHotEncoder(sparse=False)</pre></div></div></div></div></div></div><div class=\"sk-parallel-item\"><div class=\"sk-item\"><div class=\"sk-label-container\"><div class=\"sk-label sk-toggleable\"><input class=\"sk-toggleable__control sk-hidden--visually\" id=\"sk-estimator-id-5\" type=\"checkbox\" ><label for=\"sk-estimator-id-5\" class=\"sk-toggleable__label sk-toggleable__label-arrow\">remainder</label><div class=\"sk-toggleable__content\"><pre>[&#x27;Unnamed: 0&#x27;, &#x27;Total_sqft&#x27;, &#x27;latitude&#x27;, &#x27;longitude&#x27;, &#x27;BHK&#x27;, &#x27;Bathrooms&#x27;]</pre></div></div></div><div class=\"sk-serial\"><div class=\"sk-item\"><div class=\"sk-estimator sk-toggleable\"><input class=\"sk-toggleable__control sk-hidden--visually\" id=\"sk-estimator-id-6\" type=\"checkbox\" ><label for=\"sk-estimator-id-6\" class=\"sk-toggleable__label sk-toggleable__label-arrow\">passthrough</label><div class=\"sk-toggleable__content\"><pre>passthrough</pre></div></div></div></div></div></div></div></div><div class=\"sk-item\"><div class=\"sk-estimator sk-toggleable\"><input class=\"sk-toggleable__control sk-hidden--visually\" id=\"sk-estimator-id-7\" type=\"checkbox\" ><label for=\"sk-estimator-id-7\" class=\"sk-toggleable__label sk-toggleable__label-arrow\">StandardScaler</label><div class=\"sk-toggleable__content\"><pre>StandardScaler()</pre></div></div></div><div class=\"sk-item\"><div class=\"sk-estimator sk-toggleable\"><input class=\"sk-toggleable__control sk-hidden--visually\" id=\"sk-estimator-id-8\" type=\"checkbox\" ><label for=\"sk-estimator-id-8\" class=\"sk-toggleable__label sk-toggleable__label-arrow\">LinearRegression</label><div class=\"sk-toggleable__content\"><pre>LinearRegression()</pre></div></div></div></div></div></div></div>"
      ],
      "text/plain": [
       "Pipeline(steps=[('columntransformer',\n",
       "                 ColumnTransformer(remainder='passthrough',\n",
       "                                   transformers=[('onehotencoder',\n",
       "                                                  OneHotEncoder(sparse=False),\n",
       "                                                  ['Address'])])),\n",
       "                ('standardscaler', StandardScaler()),\n",
       "                ('linearregression', LinearRegression())])"
      ]
     },
     "execution_count": 101,
     "metadata": {},
     "output_type": "execute_result"
    }
   ],
   "source": [
    "# Applying Linear regression\n",
    "column_trans=make_column_transformer((OneHotEncoder(sparse=False),['Address']),remainder='passthrough')\n",
    "scaler=StandardScaler()\n",
    "lr=LinearRegression()\n",
    "pipe=make_pipeline(column_trans,scaler,lr)\n",
    "pipe.fit(x_train,y_train)\n"
   ]
  },
  {
   "cell_type": "code",
   "execution_count": 102,
   "metadata": {},
   "outputs": [
    {
     "data": {
      "text/plain": [
       "0.8759398811090034"
      ]
     },
     "execution_count": 102,
     "metadata": {},
     "output_type": "execute_result"
    }
   ],
   "source": [
    "y_pred_lr=pipe.predict(x_test)\n",
    "r2_score(y_test,y_pred_lr)"
   ]
  },
  {
   "cell_type": "code",
   "execution_count": 103,
   "metadata": {},
   "outputs": [
    {
     "name": "stderr",
     "output_type": "stream",
     "text": [
      "c:\\Users\\HP\\AppData\\Local\\Programs\\Python\\Python312\\Lib\\site-packages\\sklearn\\preprocessing\\_encoders.py:975: FutureWarning: `sparse` was renamed to `sparse_output` in version 1.2 and will be removed in 1.4. `sparse_output` is ignored unless you leave `sparse` to its default value.\n",
      "  warnings.warn(\n",
      "c:\\Users\\HP\\AppData\\Local\\Programs\\Python\\Python312\\Lib\\site-packages\\sklearn\\linear_model\\_coordinate_descent.py:628: ConvergenceWarning: Objective did not converge. You might want to increase the number of iterations, check the scale of the features or consider increasing regularisation. Duality gap: 1.395e+14, tolerance: 1.278e+13\n",
      "  model = cd_fast.enet_coordinate_descent(\n"
     ]
    },
    {
     "data": {
      "text/html": [
       "<style>#sk-container-id-2 {color: black;}#sk-container-id-2 pre{padding: 0;}#sk-container-id-2 div.sk-toggleable {background-color: white;}#sk-container-id-2 label.sk-toggleable__label {cursor: pointer;display: block;width: 100%;margin-bottom: 0;padding: 0.3em;box-sizing: border-box;text-align: center;}#sk-container-id-2 label.sk-toggleable__label-arrow:before {content: \"▸\";float: left;margin-right: 0.25em;color: #696969;}#sk-container-id-2 label.sk-toggleable__label-arrow:hover:before {color: black;}#sk-container-id-2 div.sk-estimator:hover label.sk-toggleable__label-arrow:before {color: black;}#sk-container-id-2 div.sk-toggleable__content {max-height: 0;max-width: 0;overflow: hidden;text-align: left;background-color: #f0f8ff;}#sk-container-id-2 div.sk-toggleable__content pre {margin: 0.2em;color: black;border-radius: 0.25em;background-color: #f0f8ff;}#sk-container-id-2 input.sk-toggleable__control:checked~div.sk-toggleable__content {max-height: 200px;max-width: 100%;overflow: auto;}#sk-container-id-2 input.sk-toggleable__control:checked~label.sk-toggleable__label-arrow:before {content: \"▾\";}#sk-container-id-2 div.sk-estimator input.sk-toggleable__control:checked~label.sk-toggleable__label {background-color: #d4ebff;}#sk-container-id-2 div.sk-label input.sk-toggleable__control:checked~label.sk-toggleable__label {background-color: #d4ebff;}#sk-container-id-2 input.sk-hidden--visually {border: 0;clip: rect(1px 1px 1px 1px);clip: rect(1px, 1px, 1px, 1px);height: 1px;margin: -1px;overflow: hidden;padding: 0;position: absolute;width: 1px;}#sk-container-id-2 div.sk-estimator {font-family: monospace;background-color: #f0f8ff;border: 1px dotted black;border-radius: 0.25em;box-sizing: border-box;margin-bottom: 0.5em;}#sk-container-id-2 div.sk-estimator:hover {background-color: #d4ebff;}#sk-container-id-2 div.sk-parallel-item::after {content: \"\";width: 100%;border-bottom: 1px solid gray;flex-grow: 1;}#sk-container-id-2 div.sk-label:hover label.sk-toggleable__label {background-color: #d4ebff;}#sk-container-id-2 div.sk-serial::before {content: \"\";position: absolute;border-left: 1px solid gray;box-sizing: border-box;top: 0;bottom: 0;left: 50%;z-index: 0;}#sk-container-id-2 div.sk-serial {display: flex;flex-direction: column;align-items: center;background-color: white;padding-right: 0.2em;padding-left: 0.2em;position: relative;}#sk-container-id-2 div.sk-item {position: relative;z-index: 1;}#sk-container-id-2 div.sk-parallel {display: flex;align-items: stretch;justify-content: center;background-color: white;position: relative;}#sk-container-id-2 div.sk-item::before, #sk-container-id-2 div.sk-parallel-item::before {content: \"\";position: absolute;border-left: 1px solid gray;box-sizing: border-box;top: 0;bottom: 0;left: 50%;z-index: -1;}#sk-container-id-2 div.sk-parallel-item {display: flex;flex-direction: column;z-index: 1;position: relative;background-color: white;}#sk-container-id-2 div.sk-parallel-item:first-child::after {align-self: flex-end;width: 50%;}#sk-container-id-2 div.sk-parallel-item:last-child::after {align-self: flex-start;width: 50%;}#sk-container-id-2 div.sk-parallel-item:only-child::after {width: 0;}#sk-container-id-2 div.sk-dashed-wrapped {border: 1px dashed gray;margin: 0 0.4em 0.5em 0.4em;box-sizing: border-box;padding-bottom: 0.4em;background-color: white;}#sk-container-id-2 div.sk-label label {font-family: monospace;font-weight: bold;display: inline-block;line-height: 1.2em;}#sk-container-id-2 div.sk-label-container {text-align: center;}#sk-container-id-2 div.sk-container {/* jupyter's `normalize.less` sets `[hidden] { display: none; }` but bootstrap.min.css set `[hidden] { display: none !important; }` so we also need the `!important` here to be able to override the default hidden behavior on the sphinx rendered scikit-learn.org. See: https://github.com/scikit-learn/scikit-learn/issues/21755 */display: inline-block !important;position: relative;}#sk-container-id-2 div.sk-text-repr-fallback {display: none;}</style><div id=\"sk-container-id-2\" class=\"sk-top-container\"><div class=\"sk-text-repr-fallback\"><pre>Pipeline(steps=[(&#x27;columntransformer&#x27;,\n",
       "                 ColumnTransformer(remainder=&#x27;passthrough&#x27;,\n",
       "                                   transformers=[(&#x27;onehotencoder&#x27;,\n",
       "                                                  OneHotEncoder(sparse=False),\n",
       "                                                  [&#x27;Address&#x27;])])),\n",
       "                (&#x27;standardscaler&#x27;, StandardScaler()), (&#x27;lasso&#x27;, Lasso())])</pre><b>In a Jupyter environment, please rerun this cell to show the HTML representation or trust the notebook. <br />On GitHub, the HTML representation is unable to render, please try loading this page with nbviewer.org.</b></div><div class=\"sk-container\" hidden><div class=\"sk-item sk-dashed-wrapped\"><div class=\"sk-label-container\"><div class=\"sk-label sk-toggleable\"><input class=\"sk-toggleable__control sk-hidden--visually\" id=\"sk-estimator-id-9\" type=\"checkbox\" ><label for=\"sk-estimator-id-9\" class=\"sk-toggleable__label sk-toggleable__label-arrow\">Pipeline</label><div class=\"sk-toggleable__content\"><pre>Pipeline(steps=[(&#x27;columntransformer&#x27;,\n",
       "                 ColumnTransformer(remainder=&#x27;passthrough&#x27;,\n",
       "                                   transformers=[(&#x27;onehotencoder&#x27;,\n",
       "                                                  OneHotEncoder(sparse=False),\n",
       "                                                  [&#x27;Address&#x27;])])),\n",
       "                (&#x27;standardscaler&#x27;, StandardScaler()), (&#x27;lasso&#x27;, Lasso())])</pre></div></div></div><div class=\"sk-serial\"><div class=\"sk-item sk-dashed-wrapped\"><div class=\"sk-label-container\"><div class=\"sk-label sk-toggleable\"><input class=\"sk-toggleable__control sk-hidden--visually\" id=\"sk-estimator-id-10\" type=\"checkbox\" ><label for=\"sk-estimator-id-10\" class=\"sk-toggleable__label sk-toggleable__label-arrow\">columntransformer: ColumnTransformer</label><div class=\"sk-toggleable__content\"><pre>ColumnTransformer(remainder=&#x27;passthrough&#x27;,\n",
       "                  transformers=[(&#x27;onehotencoder&#x27;, OneHotEncoder(sparse=False),\n",
       "                                 [&#x27;Address&#x27;])])</pre></div></div></div><div class=\"sk-parallel\"><div class=\"sk-parallel-item\"><div class=\"sk-item\"><div class=\"sk-label-container\"><div class=\"sk-label sk-toggleable\"><input class=\"sk-toggleable__control sk-hidden--visually\" id=\"sk-estimator-id-11\" type=\"checkbox\" ><label for=\"sk-estimator-id-11\" class=\"sk-toggleable__label sk-toggleable__label-arrow\">onehotencoder</label><div class=\"sk-toggleable__content\"><pre>[&#x27;Address&#x27;]</pre></div></div></div><div class=\"sk-serial\"><div class=\"sk-item\"><div class=\"sk-estimator sk-toggleable\"><input class=\"sk-toggleable__control sk-hidden--visually\" id=\"sk-estimator-id-12\" type=\"checkbox\" ><label for=\"sk-estimator-id-12\" class=\"sk-toggleable__label sk-toggleable__label-arrow\">OneHotEncoder</label><div class=\"sk-toggleable__content\"><pre>OneHotEncoder(sparse=False)</pre></div></div></div></div></div></div><div class=\"sk-parallel-item\"><div class=\"sk-item\"><div class=\"sk-label-container\"><div class=\"sk-label sk-toggleable\"><input class=\"sk-toggleable__control sk-hidden--visually\" id=\"sk-estimator-id-13\" type=\"checkbox\" ><label for=\"sk-estimator-id-13\" class=\"sk-toggleable__label sk-toggleable__label-arrow\">remainder</label><div class=\"sk-toggleable__content\"><pre>[&#x27;Unnamed: 0&#x27;, &#x27;Total_sqft&#x27;, &#x27;latitude&#x27;, &#x27;longitude&#x27;, &#x27;BHK&#x27;, &#x27;Bathrooms&#x27;]</pre></div></div></div><div class=\"sk-serial\"><div class=\"sk-item\"><div class=\"sk-estimator sk-toggleable\"><input class=\"sk-toggleable__control sk-hidden--visually\" id=\"sk-estimator-id-14\" type=\"checkbox\" ><label for=\"sk-estimator-id-14\" class=\"sk-toggleable__label sk-toggleable__label-arrow\">passthrough</label><div class=\"sk-toggleable__content\"><pre>passthrough</pre></div></div></div></div></div></div></div></div><div class=\"sk-item\"><div class=\"sk-estimator sk-toggleable\"><input class=\"sk-toggleable__control sk-hidden--visually\" id=\"sk-estimator-id-15\" type=\"checkbox\" ><label for=\"sk-estimator-id-15\" class=\"sk-toggleable__label sk-toggleable__label-arrow\">StandardScaler</label><div class=\"sk-toggleable__content\"><pre>StandardScaler()</pre></div></div></div><div class=\"sk-item\"><div class=\"sk-estimator sk-toggleable\"><input class=\"sk-toggleable__control sk-hidden--visually\" id=\"sk-estimator-id-16\" type=\"checkbox\" ><label for=\"sk-estimator-id-16\" class=\"sk-toggleable__label sk-toggleable__label-arrow\">Lasso</label><div class=\"sk-toggleable__content\"><pre>Lasso()</pre></div></div></div></div></div></div></div>"
      ],
      "text/plain": [
       "Pipeline(steps=[('columntransformer',\n",
       "                 ColumnTransformer(remainder='passthrough',\n",
       "                                   transformers=[('onehotencoder',\n",
       "                                                  OneHotEncoder(sparse=False),\n",
       "                                                  ['Address'])])),\n",
       "                ('standardscaler', StandardScaler()), ('lasso', Lasso())])"
      ]
     },
     "execution_count": 103,
     "metadata": {},
     "output_type": "execute_result"
    }
   ],
   "source": [
    "# Applying Lasso\n",
    "lasso=Lasso()\n",
    "pipe=make_pipeline(column_trans,scaler,lasso)\n",
    "pipe.fit(x_train,y_train)"
   ]
  },
  {
   "cell_type": "code",
   "execution_count": 104,
   "metadata": {},
   "outputs": [
    {
     "data": {
      "text/plain": [
       "0.8759926395441777"
      ]
     },
     "execution_count": 104,
     "metadata": {},
     "output_type": "execute_result"
    }
   ],
   "source": [
    "y_pred_lasso=pipe.predict(x_test)\n",
    "r2_score(y_test,y_pred_lasso)"
   ]
  },
  {
   "cell_type": "code",
   "execution_count": 105,
   "metadata": {},
   "outputs": [
    {
     "name": "stderr",
     "output_type": "stream",
     "text": [
      "c:\\Users\\HP\\AppData\\Local\\Programs\\Python\\Python312\\Lib\\site-packages\\sklearn\\preprocessing\\_encoders.py:975: FutureWarning: `sparse` was renamed to `sparse_output` in version 1.2 and will be removed in 1.4. `sparse_output` is ignored unless you leave `sparse` to its default value.\n",
      "  warnings.warn(\n"
     ]
    },
    {
     "data": {
      "text/html": [
       "<style>#sk-container-id-3 {color: black;}#sk-container-id-3 pre{padding: 0;}#sk-container-id-3 div.sk-toggleable {background-color: white;}#sk-container-id-3 label.sk-toggleable__label {cursor: pointer;display: block;width: 100%;margin-bottom: 0;padding: 0.3em;box-sizing: border-box;text-align: center;}#sk-container-id-3 label.sk-toggleable__label-arrow:before {content: \"▸\";float: left;margin-right: 0.25em;color: #696969;}#sk-container-id-3 label.sk-toggleable__label-arrow:hover:before {color: black;}#sk-container-id-3 div.sk-estimator:hover label.sk-toggleable__label-arrow:before {color: black;}#sk-container-id-3 div.sk-toggleable__content {max-height: 0;max-width: 0;overflow: hidden;text-align: left;background-color: #f0f8ff;}#sk-container-id-3 div.sk-toggleable__content pre {margin: 0.2em;color: black;border-radius: 0.25em;background-color: #f0f8ff;}#sk-container-id-3 input.sk-toggleable__control:checked~div.sk-toggleable__content {max-height: 200px;max-width: 100%;overflow: auto;}#sk-container-id-3 input.sk-toggleable__control:checked~label.sk-toggleable__label-arrow:before {content: \"▾\";}#sk-container-id-3 div.sk-estimator input.sk-toggleable__control:checked~label.sk-toggleable__label {background-color: #d4ebff;}#sk-container-id-3 div.sk-label input.sk-toggleable__control:checked~label.sk-toggleable__label {background-color: #d4ebff;}#sk-container-id-3 input.sk-hidden--visually {border: 0;clip: rect(1px 1px 1px 1px);clip: rect(1px, 1px, 1px, 1px);height: 1px;margin: -1px;overflow: hidden;padding: 0;position: absolute;width: 1px;}#sk-container-id-3 div.sk-estimator {font-family: monospace;background-color: #f0f8ff;border: 1px dotted black;border-radius: 0.25em;box-sizing: border-box;margin-bottom: 0.5em;}#sk-container-id-3 div.sk-estimator:hover {background-color: #d4ebff;}#sk-container-id-3 div.sk-parallel-item::after {content: \"\";width: 100%;border-bottom: 1px solid gray;flex-grow: 1;}#sk-container-id-3 div.sk-label:hover label.sk-toggleable__label {background-color: #d4ebff;}#sk-container-id-3 div.sk-serial::before {content: \"\";position: absolute;border-left: 1px solid gray;box-sizing: border-box;top: 0;bottom: 0;left: 50%;z-index: 0;}#sk-container-id-3 div.sk-serial {display: flex;flex-direction: column;align-items: center;background-color: white;padding-right: 0.2em;padding-left: 0.2em;position: relative;}#sk-container-id-3 div.sk-item {position: relative;z-index: 1;}#sk-container-id-3 div.sk-parallel {display: flex;align-items: stretch;justify-content: center;background-color: white;position: relative;}#sk-container-id-3 div.sk-item::before, #sk-container-id-3 div.sk-parallel-item::before {content: \"\";position: absolute;border-left: 1px solid gray;box-sizing: border-box;top: 0;bottom: 0;left: 50%;z-index: -1;}#sk-container-id-3 div.sk-parallel-item {display: flex;flex-direction: column;z-index: 1;position: relative;background-color: white;}#sk-container-id-3 div.sk-parallel-item:first-child::after {align-self: flex-end;width: 50%;}#sk-container-id-3 div.sk-parallel-item:last-child::after {align-self: flex-start;width: 50%;}#sk-container-id-3 div.sk-parallel-item:only-child::after {width: 0;}#sk-container-id-3 div.sk-dashed-wrapped {border: 1px dashed gray;margin: 0 0.4em 0.5em 0.4em;box-sizing: border-box;padding-bottom: 0.4em;background-color: white;}#sk-container-id-3 div.sk-label label {font-family: monospace;font-weight: bold;display: inline-block;line-height: 1.2em;}#sk-container-id-3 div.sk-label-container {text-align: center;}#sk-container-id-3 div.sk-container {/* jupyter's `normalize.less` sets `[hidden] { display: none; }` but bootstrap.min.css set `[hidden] { display: none !important; }` so we also need the `!important` here to be able to override the default hidden behavior on the sphinx rendered scikit-learn.org. See: https://github.com/scikit-learn/scikit-learn/issues/21755 */display: inline-block !important;position: relative;}#sk-container-id-3 div.sk-text-repr-fallback {display: none;}</style><div id=\"sk-container-id-3\" class=\"sk-top-container\"><div class=\"sk-text-repr-fallback\"><pre>Pipeline(steps=[(&#x27;columntransformer&#x27;,\n",
       "                 ColumnTransformer(remainder=&#x27;passthrough&#x27;,\n",
       "                                   transformers=[(&#x27;onehotencoder&#x27;,\n",
       "                                                  OneHotEncoder(sparse=False),\n",
       "                                                  [&#x27;Address&#x27;])])),\n",
       "                (&#x27;standardscaler&#x27;, StandardScaler()), (&#x27;ridge&#x27;, Ridge())])</pre><b>In a Jupyter environment, please rerun this cell to show the HTML representation or trust the notebook. <br />On GitHub, the HTML representation is unable to render, please try loading this page with nbviewer.org.</b></div><div class=\"sk-container\" hidden><div class=\"sk-item sk-dashed-wrapped\"><div class=\"sk-label-container\"><div class=\"sk-label sk-toggleable\"><input class=\"sk-toggleable__control sk-hidden--visually\" id=\"sk-estimator-id-17\" type=\"checkbox\" ><label for=\"sk-estimator-id-17\" class=\"sk-toggleable__label sk-toggleable__label-arrow\">Pipeline</label><div class=\"sk-toggleable__content\"><pre>Pipeline(steps=[(&#x27;columntransformer&#x27;,\n",
       "                 ColumnTransformer(remainder=&#x27;passthrough&#x27;,\n",
       "                                   transformers=[(&#x27;onehotencoder&#x27;,\n",
       "                                                  OneHotEncoder(sparse=False),\n",
       "                                                  [&#x27;Address&#x27;])])),\n",
       "                (&#x27;standardscaler&#x27;, StandardScaler()), (&#x27;ridge&#x27;, Ridge())])</pre></div></div></div><div class=\"sk-serial\"><div class=\"sk-item sk-dashed-wrapped\"><div class=\"sk-label-container\"><div class=\"sk-label sk-toggleable\"><input class=\"sk-toggleable__control sk-hidden--visually\" id=\"sk-estimator-id-18\" type=\"checkbox\" ><label for=\"sk-estimator-id-18\" class=\"sk-toggleable__label sk-toggleable__label-arrow\">columntransformer: ColumnTransformer</label><div class=\"sk-toggleable__content\"><pre>ColumnTransformer(remainder=&#x27;passthrough&#x27;,\n",
       "                  transformers=[(&#x27;onehotencoder&#x27;, OneHotEncoder(sparse=False),\n",
       "                                 [&#x27;Address&#x27;])])</pre></div></div></div><div class=\"sk-parallel\"><div class=\"sk-parallel-item\"><div class=\"sk-item\"><div class=\"sk-label-container\"><div class=\"sk-label sk-toggleable\"><input class=\"sk-toggleable__control sk-hidden--visually\" id=\"sk-estimator-id-19\" type=\"checkbox\" ><label for=\"sk-estimator-id-19\" class=\"sk-toggleable__label sk-toggleable__label-arrow\">onehotencoder</label><div class=\"sk-toggleable__content\"><pre>[&#x27;Address&#x27;]</pre></div></div></div><div class=\"sk-serial\"><div class=\"sk-item\"><div class=\"sk-estimator sk-toggleable\"><input class=\"sk-toggleable__control sk-hidden--visually\" id=\"sk-estimator-id-20\" type=\"checkbox\" ><label for=\"sk-estimator-id-20\" class=\"sk-toggleable__label sk-toggleable__label-arrow\">OneHotEncoder</label><div class=\"sk-toggleable__content\"><pre>OneHotEncoder(sparse=False)</pre></div></div></div></div></div></div><div class=\"sk-parallel-item\"><div class=\"sk-item\"><div class=\"sk-label-container\"><div class=\"sk-label sk-toggleable\"><input class=\"sk-toggleable__control sk-hidden--visually\" id=\"sk-estimator-id-21\" type=\"checkbox\" ><label for=\"sk-estimator-id-21\" class=\"sk-toggleable__label sk-toggleable__label-arrow\">remainder</label><div class=\"sk-toggleable__content\"><pre>[&#x27;Unnamed: 0&#x27;, &#x27;Total_sqft&#x27;, &#x27;latitude&#x27;, &#x27;longitude&#x27;, &#x27;BHK&#x27;, &#x27;Bathrooms&#x27;]</pre></div></div></div><div class=\"sk-serial\"><div class=\"sk-item\"><div class=\"sk-estimator sk-toggleable\"><input class=\"sk-toggleable__control sk-hidden--visually\" id=\"sk-estimator-id-22\" type=\"checkbox\" ><label for=\"sk-estimator-id-22\" class=\"sk-toggleable__label sk-toggleable__label-arrow\">passthrough</label><div class=\"sk-toggleable__content\"><pre>passthrough</pre></div></div></div></div></div></div></div></div><div class=\"sk-item\"><div class=\"sk-estimator sk-toggleable\"><input class=\"sk-toggleable__control sk-hidden--visually\" id=\"sk-estimator-id-23\" type=\"checkbox\" ><label for=\"sk-estimator-id-23\" class=\"sk-toggleable__label sk-toggleable__label-arrow\">StandardScaler</label><div class=\"sk-toggleable__content\"><pre>StandardScaler()</pre></div></div></div><div class=\"sk-item\"><div class=\"sk-estimator sk-toggleable\"><input class=\"sk-toggleable__control sk-hidden--visually\" id=\"sk-estimator-id-24\" type=\"checkbox\" ><label for=\"sk-estimator-id-24\" class=\"sk-toggleable__label sk-toggleable__label-arrow\">Ridge</label><div class=\"sk-toggleable__content\"><pre>Ridge()</pre></div></div></div></div></div></div></div>"
      ],
      "text/plain": [
       "Pipeline(steps=[('columntransformer',\n",
       "                 ColumnTransformer(remainder='passthrough',\n",
       "                                   transformers=[('onehotencoder',\n",
       "                                                  OneHotEncoder(sparse=False),\n",
       "                                                  ['Address'])])),\n",
       "                ('standardscaler', StandardScaler()), ('ridge', Ridge())])"
      ]
     },
     "execution_count": 105,
     "metadata": {},
     "output_type": "execute_result"
    }
   ],
   "source": [
    "# Applying Ridge\n",
    "ridge=Ridge()\n",
    "pipe=make_pipeline(column_trans,scaler,ridge)\n",
    "pipe.fit(x_train,y_train)"
   ]
  },
  {
   "cell_type": "code",
   "execution_count": 106,
   "metadata": {},
   "outputs": [
    {
     "data": {
      "text/plain": [
       "0.8760276193596805"
      ]
     },
     "execution_count": 106,
     "metadata": {},
     "output_type": "execute_result"
    }
   ],
   "source": [
    "y_pred_ridge=pipe.predict(x_test)\n",
    "r2_score(y_test,y_pred_ridge)"
   ]
  },
  {
   "cell_type": "code",
   "execution_count": 107,
   "metadata": {},
   "outputs": [
    {
     "name": "stdout",
     "output_type": "stream",
     "text": [
      "No regulariztion=  0.8759398811090034\n",
      "Lasso=  0.8759926395441777\n",
      "Ridge=  0.8760276193596805\n"
     ]
    }
   ],
   "source": [
    "print(\"No regulariztion= \",r2_score(y_test,y_pred_lr))\n",
    "print(\"Lasso= \",r2_score(y_test,y_pred_lasso))\n",
    "print(\"Ridge= \",r2_score(y_test,y_pred_ridge))"
   ]
  },
  {
   "cell_type": "code",
   "execution_count": 108,
   "metadata": {},
   "outputs": [],
   "source": [
    "import pickle"
   ]
  },
  {
   "cell_type": "code",
   "execution_count": null,
   "metadata": {},
   "outputs": [],
   "source": [
    "pickle.dump(pipe,open('RidgeModel.pkl','wb'))"
   ]
  }
 ],
 "metadata": {
  "kernelspec": {
   "display_name": "Python 3",
   "language": "python",
   "name": "python3"
  },
  "language_info": {
   "codemirror_mode": {
    "name": "ipython",
    "version": 3
   },
   "file_extension": ".py",
   "mimetype": "text/x-python",
   "name": "python",
   "nbconvert_exporter": "python",
   "pygments_lexer": "ipython3",
   "version": "3.12.0"
  }
 },
 "nbformat": 4,
 "nbformat_minor": 2
}
